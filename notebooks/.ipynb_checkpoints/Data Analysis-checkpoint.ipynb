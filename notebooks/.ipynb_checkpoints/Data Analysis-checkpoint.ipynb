{
 "cells": [
  {
   "cell_type": "code",
   "execution_count": 4,
   "id": "1c8361b7-3811-42b9-94e9-20de083dd743",
   "metadata": {},
   "outputs": [
    {
     "data": {
      "text/html": [
       "<div>\n",
       "<style scoped>\n",
       "    .dataframe tbody tr th:only-of-type {\n",
       "        vertical-align: middle;\n",
       "    }\n",
       "\n",
       "    .dataframe tbody tr th {\n",
       "        vertical-align: top;\n",
       "    }\n",
       "\n",
       "    .dataframe thead th {\n",
       "        text-align: right;\n",
       "    }\n",
       "</style>\n",
       "<table border=\"1\" class=\"dataframe\">\n",
       "  <thead>\n",
       "    <tr style=\"text-align: right;\">\n",
       "      <th></th>\n",
       "      <th>Reference_Number</th>\n",
       "      <th>Number_of_Vehicles</th>\n",
       "      <th>Accident_Date</th>\n",
       "      <th>Road_Surface</th>\n",
       "      <th>Lighting_Conditions</th>\n",
       "      <th>Weather_Conditions</th>\n",
       "    </tr>\n",
       "  </thead>\n",
       "  <tbody>\n",
       "  </tbody>\n",
       "</table>\n",
       "</div>"
      ],
      "text/plain": [
       "Empty DataFrame\n",
       "Columns: [Reference_Number, Number_of_Vehicles, Accident_Date, Road_Surface, Lighting_Conditions, Weather_Conditions]\n",
       "Index: []"
      ]
     },
     "execution_count": 4,
     "metadata": {},
     "output_type": "execute_result"
    }
   ],
   "source": [
    "import sqlite3\n",
    "import pandas as pd\n",
    "\n",
    "# Connect to SQLite database\n",
    "conn = sqlite3.connect('accidents_dwh.sqlite')\n",
    "\n",
    "# Query to join and retrieve relevant data\n",
    "query = \"\"\"\n",
    "SELECT cf.Reference_Number, cf.Number_of_Vehicles, dd.Accident_Date, rd.Road_Surface,\n",
    "       cd.Lighting_Conditions, cd.Weather_Conditions\n",
    "FROM Collisions_Fact cf\n",
    "JOIN Date_Dimension dd ON cf.DateID = dd.DateID\n",
    "JOIN Road_Dimension rd ON cf.RoadID = rd.RoadID\n",
    "JOIN Conditions_Dimension cd ON cf.ConditionsID = cd.ConditionsID\n",
    "\"\"\"\n",
    "# Load the data into a DataFrame\n",
    "data = pd.read_sql_query(query, conn)\n",
    "\n",
    "# Close the connection\n",
    "conn.close()\n",
    "\n",
    "# Display the first few rows\n",
    "data.head()\n"
   ]
  },
  {
   "cell_type": "markdown",
   "id": "7d6bdda0-cbfd-4fe3-ae3a-de857043ca20",
   "metadata": {},
   "source": [
    "# Performing Analysis\n",
    "## A. Accident Trends Over Time\n",
    "\n"
   ]
  },
  {
   "cell_type": "code",
   "execution_count": null,
   "id": "cd0dd6db-09d5-4cd0-aafd-ba83558cf943",
   "metadata": {},
   "outputs": [],
   "source": [
    "!pip install matplotlib\n"
   ]
  },
  {
   "cell_type": "code",
   "execution_count": null,
   "id": "cafe89be-ac81-4e9c-a6ae-d5973150f98d",
   "metadata": {},
   "outputs": [],
   "source": [
    "!pip install matplotlib\n",
    "# Convert Accident_Date to datetime\n",
    "data['Accident_Date'] = pd.to_datetime(data['Accident_Date'])\n",
    "\n",
    "# Group by year and month to count accidents\n",
    "monthly_accidents = data.groupby(data['Accident_Date'].dt.to_period('M')).size()\n",
    "\n",
    "# Plot the trends\n",
    "import matplotlib.pyplot as plt\n",
    "\n",
    "plt.figure(figsize=(10, 6))\n",
    "monthly_accidents.plot(kind='line', title=\"Accident Trends Over Time\")\n",
    "plt.xlabel(\"Month\")\n",
    "plt.ylabel(\"Number of Accidents\")\n",
    "plt.grid()\n",
    "plt.show()\n",
    "\n"
   ]
  },
  {
   "cell_type": "code",
   "execution_count": null,
   "id": "1afd7d8c-4c23-4b2e-ac42-7e14692c8414",
   "metadata": {},
   "outputs": [],
   "source": []
  }
 ],
 "metadata": {
  "kernelspec": {
   "display_name": "Python 3 (ipykernel)",
   "language": "python",
   "name": "python3"
  },
  "language_info": {
   "codemirror_mode": {
    "name": "ipython",
    "version": 3
   },
   "file_extension": ".py",
   "mimetype": "text/x-python",
   "name": "python",
   "nbconvert_exporter": "python",
   "pygments_lexer": "ipython3",
   "version": "3.11.7"
  }
 },
 "nbformat": 4,
 "nbformat_minor": 5
}
